{
 "cells": [
  {
   "cell_type": "code",
   "execution_count": null,
   "id": "74c3ca75",
   "metadata": {},
   "outputs": [],
   "source": [
    "%load_ext autoreload\n",
    "%autoreload 1"
   ]
  },
  {
   "cell_type": "code",
   "execution_count": null,
   "id": "df7dc4bb",
   "metadata": {},
   "outputs": [],
   "source": [
    "import matplotlib.pyplot as plt\n",
    "import numpy as np\n",
    "import pandas as pd\n",
    "import requests\n",
    "\n",
    "%aimport decoder\n",
    "%aimport globalmaptiles\n",
    "%aimport utils"
   ]
  },
  {
   "cell_type": "code",
   "execution_count": null,
   "id": "93c562b1",
   "metadata": {},
   "outputs": [],
   "source": [
    "ZOOM = 15\n",
    "# TILESET = \"mapbox.mapbox-terrain-v2\"\n",
    "# TILESET = \"mapbox.mapbox-streets-v7\"\n",
    "TILESET = \"trailsroc.ckaix6nvo0lgb2ak7gxrf6lpk-0cnr1\"\n",
    "LAYER = \"prod-v1-build1\"\n",
    "SEG_FILTER = \"mponds\"\n",
    "EXTENT = 4096"
   ]
  },
  {
   "cell_type": "code",
   "execution_count": null,
   "id": "ed27f392",
   "metadata": {
    "scrolled": true
   },
   "outputs": [],
   "source": [
    "trails = {}\n",
    "TX, TY = utils.get_mponds_tiles(ZOOM)\n",
    "for x, tx in enumerate(TX):\n",
    "    for y, ty in enumerate(TY):\n",
    "        print(x, y, tx, ty, ZOOM)\n",
    "        try:\n",
    "            tile = utils.get_tile(TILESET, tx, ty, ZOOM)\n",
    "        except Exception as e:\n",
    "            print(f\"Error getting tile {tx} {ty} {ZOOM}: {e}\")\n",
    "            tile = {\n",
    "                \"prod-v1-build1\": {\n",
    "                    \"extent\": 4096,\n",
    "                    \"version\": 2,\n",
    "                    \"features\": []\n",
    "                }\n",
    "            }\n",
    "        \n",
    "        layer = tile[LAYER]\n",
    "        assert layer[\"extent\"] == EXTENT, f\"expected layer extent == {EXTENT}\"\n",
    "        tile_trails = [\n",
    "            utils.TrailSegment(f) for f in layer[\"features\"]\n",
    "            if f[\"properties\"].get(\"trailsroc-type\") == \"trailSegment\" and\n",
    "            SEG_FILTER in f[\"properties\"].get(\"trailsroc-id\")\n",
    "        ]\n",
    "#         tile_trails = [trail.clip(EXTENT, EXTENT) for trail in tile_trails]\n",
    "#         tile_trails = [trail for trail in tile_trails if len(trail.coords) > 0]\n",
    "        tile_trails = [trail.shift(x*EXTENT, y*EXTENT) for trail in tile_trails]\n",
    "        trails[(x, y)] = tile_trails"
   ]
  },
  {
   "cell_type": "code",
   "execution_count": null,
   "id": "f9265c33",
   "metadata": {},
   "outputs": [],
   "source": [
    "tids = set(trail.id for k in trails for trail in trails[k])\n",
    "for tid in tids:\n",
    "    tiles = [k for k in trails for trail in trails[k] if trail.id == tid]\n",
    "    parts = [trail for k in trails for trail in trails[k] if trail.id == tid]\n",
    "    if len(tiles) == 1:\n",
    "        continue\n",
    "    elif len(tiles) == 2:\n",
    "        t1, t2 = tiles\n",
    "        (t1x, t1y), (t2x, t2y) = t1, t2\n",
    "        dx, dy = abs(t1x-t2x), abs(t1y-t2y)\n",
    "        assert (dx==0 and dy==1) or (dx==1 and dy==0)\n",
    "    elif len(tiles) == 3:\n",
    "        print(tiles, tid)\n",
    "    elif len(tiles) == 4:\n",
    "        print(tiles, tid)\n",
    "    else:\n",
    "        raise Exception(\"too many parts\")"
   ]
  },
  {
   "cell_type": "code",
   "execution_count": null,
   "id": "164ba0ee",
   "metadata": {},
   "outputs": [],
   "source": [
    "for tile, trail in zip(tiles, parts):\n",
    "    for coords in trail.coords:\n",
    "        print(tile, coords)\n",
    "        plt.plot(*np.array(coords).T, marker=\"o\")\n",
    "ax = plt.axis()\n",
    "for x in set(x for x, y in tiles):\n",
    "    plt.axvline(x*EXTENT)\n",
    "for y in set(y for x, y in tiles):\n",
    "    plt.axhline(y*EXTENT)\n",
    "plt.axis(ax)"
   ]
  },
  {
   "cell_type": "code",
   "execution_count": null,
   "id": "433ab7af",
   "metadata": {},
   "outputs": [],
   "source": [
    "%matplotlib notebook"
   ]
  },
  {
   "cell_type": "code",
   "execution_count": null,
   "id": "1b91a9d8",
   "metadata": {},
   "outputs": [],
   "source": [
    "%matplotlib inline"
   ]
  },
  {
   "cell_type": "code",
   "execution_count": null,
   "id": "a6295a43",
   "metadata": {},
   "outputs": [],
   "source": [
    "for i, (x, y) in enumerate(trails):\n",
    "    color = \"C\" + str(i)\n",
    "    if len(trails[(x, y)]) == 0:\n",
    "        plt.plot([x*EXTENT, (x+1)*EXTENT], [y*EXTENT, (y+1)*EXTENT], color=color)\n",
    "        plt.plot([x*EXTENT, (x+1)*EXTENT], [(y+1)*EXTENT, y*EXTENT], color=color)\n",
    "    else:\n",
    "        for trail in trails[(x, y)]:\n",
    "            if len(trail.coords) > 1:\n",
    "                assert len(trail.coords) < 4, len(trail.coords)\n",
    "                plt.plot(*np.array(trail.coords[0]).T, color=\"red\", lw=5)\n",
    "                plt.plot(*np.array(trail.coords[1]).T, color=\"green\", lw=5)\n",
    "                if len(trail.coords) > 2:\n",
    "                    plt.plot(*np.array(trail.coords[2]).T, color=\"blue\", lw=5)\n",
    "            for coords in trail.coords:\n",
    "                plt.plot(*np.array(coords).T, color=color)\n",
    "\n",
    "    plt.plot([x*EXTENT, x*EXTENT, (x+1)*EXTENT, (x+1)*EXTENT, x*EXTENT],\n",
    "             [y*EXTENT, (y+1)*EXTENT, (y+1)*EXTENT, y*EXTENT, y*EXTENT],\n",
    "             color=color)"
   ]
  },
  {
   "cell_type": "code",
   "execution_count": null,
   "id": "7f455284",
   "metadata": {},
   "outputs": [],
   "source": [
    "for i, (x, y) in enumerate(trails):\n",
    "    for trail in trails[(x, y)]:\n",
    "        if len(trail.coords) > 1:\n",
    "            print(i, x, y, trail.id, len(trail.coords))\n",
    "            print(trail.coords)\n",
    "            print()"
   ]
  },
  {
   "cell_type": "code",
   "execution_count": null,
   "id": "bc7b82b1",
   "metadata": {},
   "outputs": [],
   "source": []
  },
  {
   "cell_type": "code",
   "execution_count": null,
   "id": "ee5ca66e",
   "metadata": {},
   "outputs": [],
   "source": [
    "xx = []\n",
    "for i, (x, y) in enumerate(features):\n",
    "    for feature in features[(x, y)]:\n",
    "        if feature[\"properties\"][\"trailsroc-type\"] == \"trailSegment\":\n",
    "            xx.append(utils.TrailSegment(feature))\n",
    "        type_ = feature[\"geometry\"][\"type\"]\n",
    "        tr_type = feature[\"properties\"][\"trailsroc-type\"]\n",
    "        tr_id = feature[\"properties\"][\"trailsroc-id\"]\n",
    "        tr_name = feature[\"properties\"].get(\"trailsroc-name\")\n",
    "        if tr_type == \"trailSegment\":\n",
    "            assert \"trailsroc-color\" in feature[\"properties\"]\n",
    "        type_tup = (type_, tr_type)\n",
    "        print(\"%15s %20s %s %s\" % (type_tup + (tr_id, tr_name)))"
   ]
  },
  {
   "cell_type": "code",
   "execution_count": null,
   "id": "e6f78540",
   "metadata": {},
   "outputs": [],
   "source": [
    "xx = set()\n",
    "for i, (x, y) in enumerate(features):\n",
    "    for feature in features[(x, y)]:\n",
    "        if feature[\"properties\"][\"trailsroc-type\"] == \"trailSegment\":\n",
    "            xx.add(feature[\"properties\"].get(\"trailsroc-name\", \"Unknown\"))"
   ]
  },
  {
   "cell_type": "code",
   "execution_count": null,
   "id": "fcda6fdc",
   "metadata": {},
   "outputs": [],
   "source": [
    "xx"
   ]
  },
  {
   "cell_type": "code",
   "execution_count": null,
   "id": "3677e59a",
   "metadata": {},
   "outputs": [],
   "source": []
  },
  {
   "cell_type": "code",
   "execution_count": null,
   "id": "e53e983b",
   "metadata": {},
   "outputs": [],
   "source": [
    "# L = tiles[(0, 1)]\n",
    "# R = tiles[(1, 1)]\n",
    "# trail = \"seg:trail-mponds-unnamed-trails:ee21931c\"\n",
    "L = tiles[(1, 1)]\n",
    "R = tiles[(1, 0)]\n",
    "trail = \"seg:trail-mponds-quaker:1440c1cd\"\n",
    "trail = \"seg:trail-mponds-smeadow:a9101492\"\n",
    "trail = \"seg:trail-mponds-unnamed-trails:8ec2ef08\"\n",
    "trail = \"seg:trail-mponds-unnamed-trails:62914ce7\"\n",
    "trail = \"seg:trail-mponds-unnamed-trails:f9984151\"\n",
    "\n",
    "\n",
    "Lf, = [f for f in L[\"features\"] if f[\"properties\"][\"trailsroc-id\"] == trail]\n",
    "Rf, = [f for f in R[\"features\"] if f[\"properties\"][\"trailsroc-id\"] == trail]\n",
    "\n",
    "Lc = np.array(Lf[\"geometry\"][\"coordinates\"])\n",
    "Rc = np.array(Rf[\"geometry\"][\"coordinates\"])"
   ]
  },
  {
   "cell_type": "code",
   "execution_count": null,
   "id": "baeb98fe",
   "metadata": {},
   "outputs": [],
   "source": [
    "if len(Lc) > len(Rc):\n",
    "    plt.plot(*Lc.T, marker=\"o\", lw=3)\n",
    "    plt.plot(*Rc.T, marker=\"o\")\n",
    "else:\n",
    "    plt.plot(*Rc.T, marker=\"o\", lw=3)\n",
    "    plt.plot(*Lc.T, marker=\"o\")"
   ]
  },
  {
   "cell_type": "code",
   "execution_count": null,
   "id": "2d827583",
   "metadata": {},
   "outputs": [],
   "source": []
  },
  {
   "cell_type": "code",
   "execution_count": null,
   "id": "a9148029",
   "metadata": {},
   "outputs": [],
   "source": []
  },
  {
   "cell_type": "code",
   "execution_count": null,
   "id": "04981443",
   "metadata": {},
   "outputs": [],
   "source": [
    "df = []\n",
    "for x, y in features:\n",
    "    for feature in features[(x, y)]:\n",
    "        df.append(feature[\"properties\"])\n",
    "df = pd.DataFrame(df)"
   ]
  },
  {
   "cell_type": "code",
   "execution_count": null,
   "id": "1894d45d",
   "metadata": {},
   "outputs": [],
   "source": [
    "df"
   ]
  },
  {
   "cell_type": "code",
   "execution_count": null,
   "id": "8e35cdd7",
   "metadata": {},
   "outputs": [],
   "source": []
  },
  {
   "cell_type": "code",
   "execution_count": null,
   "id": "06c57152",
   "metadata": {},
   "outputs": [],
   "source": []
  },
  {
   "cell_type": "code",
   "execution_count": null,
   "id": "86756ea8",
   "metadata": {},
   "outputs": [],
   "source": [
    "def plot_features(features, xs=0, ys=0, color=None):\n",
    "    for feature in features:\n",
    "        geometry = feature[\"geometry\"]\n",
    "        type_ = geometry[\"type\"]\n",
    "        coords = geometry[\"coordinates\"]\n",
    "        if type_ == \"Point\":\n",
    "            x, y = coords\n",
    "            plt.plot(x+xs, y+ys, marker=\".\", color=color)\n",
    "        elif type_ == \"MultiPoint\":\n",
    "            for point in coords:\n",
    "                x, y = point\n",
    "                plt.plot(x+xs, y+ys, marker=\"x\", color=color)\n",
    "        elif type_ == \"Polygon\" or type_ == \"MultiPolygon\":\n",
    "            for polygon in coords:\n",
    "                x, y = np.array(polygon).T\n",
    "                plt.plot(x+xs, y+ys, linestyle=\"--\", color=color)\n",
    "        elif type_ == \"LineString\":\n",
    "            x, y = np.array(coords).T\n",
    "            plt.plot(x+xs, y+ys, color=color)\n",
    "        elif type_ == \"MultiLineString\":\n",
    "            for line_string in coords:\n",
    "                x, y = np.array(line_string).T\n",
    "                plt.plot(x+xs, y+ys, color=color)\n",
    "        else:\n",
    "            raise Exception(\"Unknown type: \" + type_)"
   ]
  },
  {
   "cell_type": "code",
   "execution_count": null,
   "id": "51e5f527",
   "metadata": {},
   "outputs": [],
   "source": []
  },
  {
   "cell_type": "code",
   "execution_count": null,
   "id": "36356ffd",
   "metadata": {},
   "outputs": [],
   "source": [
    "# graph stuff"
   ]
  },
  {
   "cell_type": "code",
   "execution_count": null,
   "id": "e8c58271",
   "metadata": {},
   "outputs": [],
   "source": [
    "G = nx.read_weighted_edgelist('mendonponds_edgelist.txt')"
   ]
  },
  {
   "cell_type": "code",
   "execution_count": null,
   "id": "15cded3a",
   "metadata": {},
   "outputs": [],
   "source": [
    "nx.shortest_path(G, 'BL', 'BL')"
   ]
  },
  {
   "cell_type": "code",
   "execution_count": null,
   "id": "a72e8da0",
   "metadata": {},
   "outputs": [],
   "source": [
    "chk_pts = [\"BL\", \"W11\", \"HP1\", \"DB\", \"Y9\", \"G15\", \"C4\", \"P8\", \"R16\", \"G3\"]\n",
    "route = nx.approximation.traveling_salesman_problem(G, nodes=chk_pts)\n",
    "sum(G[a][b]['weight'] for a, b in nx.utils.pairwise(route))"
   ]
  },
  {
   "cell_type": "code",
   "execution_count": null,
   "id": "939c8011",
   "metadata": {},
   "outputs": [],
   "source": [
    "# first task: input list of nodes, output adjacency matrix of shortest path lengths between pairs\n",
    "nodes = ['BL', 'HP1', 'G15', 'R17']\n",
    "adj_m = np.zeros((len(nodes), len(nodes)))\n",
    "for i, j in itertools.combinations(range(len(nodes)), r=2):\n",
    "    n1, n2 = nodes[i], nodes[j]\n",
    "    path = nx.shortest_path(G, n1, n2)\n",
    "    adj_m[i, j] = sum(G[a][b]['weight'] for a, b in nx.utils.pairwise(path))\n",
    "\n",
    "H = nx.from_numpy_array(adj_m)"
   ]
  },
  {
   "cell_type": "code",
   "execution_count": null,
   "id": "e7c34fed",
   "metadata": {},
   "outputs": [],
   "source": [
    "adj_m = np.array([[0, 1, 2, 3],\n",
    "                  [0, 0, 4, 5],\n",
    "                  [0, 0, 0, 6],\n",
    "                  [0, 0, 0, 0]])\n",
    "H = nx.from_numpy_array(adj_m)"
   ]
  },
  {
   "cell_type": "code",
   "execution_count": null,
   "id": "1d7e1583",
   "metadata": {},
   "outputs": [],
   "source": [
    "nx.approximation.traveling_salesman_problem(G, nodes=)"
   ]
  },
  {
   "cell_type": "code",
   "execution_count": null,
   "id": "63def254",
   "metadata": {},
   "outputs": [],
   "source": [
    "def bf_tsp(H):\n",
    "    print(H)\n",
    "    \n",
    "bf_tsp(H)"
   ]
  },
  {
   "cell_type": "code",
   "execution_count": null,
   "id": "b0f7acfb",
   "metadata": {},
   "outputs": [],
   "source": [
    "for p in itertools.permutations(range(len(H))):\n",
    "    print(p)"
   ]
  },
  {
   "cell_type": "code",
   "execution_count": null,
   "id": "a729d377",
   "metadata": {},
   "outputs": [],
   "source": [
    "nx.approximation.traveling_salesman_problem(H, nodes=[1, 2, 3])"
   ]
  },
  {
   "cell_type": "code",
   "execution_count": null,
   "id": "b9f28394",
   "metadata": {},
   "outputs": [],
   "source": [
    "def draw_graph_with_labels(G):\n",
    "    pos = nx.spring_layout(G)\n",
    "    labels = nx.get_edge_attributes(G, \"weight\")\n",
    "    nx.draw_networkx(G, pos)\n",
    "    nx.draw_networkx_edge_labels(G, pos, edge_labels=labels)"
   ]
  }
 ],
 "metadata": {
  "kernelspec": {
   "display_name": "Python 3 (ipykernel)",
   "language": "python",
   "name": "python3"
  },
  "language_info": {
   "codemirror_mode": {
    "name": "ipython",
    "version": 3
   },
   "file_extension": ".py",
   "mimetype": "text/x-python",
   "name": "python",
   "nbconvert_exporter": "python",
   "pygments_lexer": "ipython3",
   "version": "3.10.4"
  }
 },
 "nbformat": 4,
 "nbformat_minor": 5
}
